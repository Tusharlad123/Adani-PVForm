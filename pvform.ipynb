import pandas as pd
from google.colab import files
import io
from flask import Flask, request, jsonify
from google.colab.output import eval_js
from IPython.display import display, Javascript

# Create a sample CSV file
sample_data = {
    'Block': ['Site 1', 'Site 2', 'Site 3'],
    'Inverter make': ['Sample Address 1', 'Sample Address 2', 'Sample Address 3'],
    'Model': [342307, 400001, 500001],
    'Inverter No.': [100, 150, 200],
    'SCB': ['Bapoo', 'Site 2', 'Site 3'],
    'No. of string': ['Sample Address 1', 'Sample Address 2', 'Sample Address 3'],
    'Modules/strings': [342307, 400001, 500001],
    'Total Modules': [100, 150, 200],
    'Module make': ['Bapoo', 'Site 2', 'Site 3'],
    'Model': [342307, 400001, 500001],
    'P (Wp)': [100, 150, 200],
    'DC Capacity(kW)':[234,234,256],
    'Orientation(Fixed/Seasonal/Tracker)':['fixed','fixed','fixed'],
    'Tracker make':['Na','Na','Na']
}
df = pd.DataFrame(sample_data)
df.to_csv('solar_plants.csv', index=False)

app = Flask(__name__)

@app.route('/')
def home():
    return """
    <!DOCTYPE html>
<html lang="en">
<head>
    <meta charset="UTF-8">
    <meta name="viewport" content="width=device-width, initial-scale=1.0">
    <title>PV Form</title>
    <style>
        body {
            font-family: Arial, sans-serif;
            background-color: #f0f0f0;
            margin: 0;
            padding: 20px;
        }

        h1 {
            color: #333;
            text-align: center;
        }

        button {
            display: block;
            width: 150px;
            padding: 10px;
            margin: 20px auto;
            background-color: #007BFF;
            color: white;
            border: none;
            border-radius: 5px;
            cursor: pointer;
            transition: background-color 0.3s ease;
        }

        button:hover {
            background-color: #0056b3;
        }

        #data {
            margin-top: 20px;
        }

        table {
            width: 100%;
            border-collapse: collapse;
            margin-top: 20px;
            background-color: white;
            box-shadow: 0 2px 4px rgba(0,0,0,0.1);
        }

        th, td {
            padding: 10px;
            text-align: left;
            border: 1px solid #ddd;
        }

        th {
            background-color: #007BFF;
            color: white;
        }

        tr:nth-child(even) {
            background-color: #f2f2f2;
        }

        td[contenteditable="true"] {
            background-color: #fffdd0;
            cursor: pointer;
        }

        td[contenteditable="true"]:hover {
            background-color: #fffacd;
        }
    </style>
</head>
<body>
    <h1>PV Form</h1>
    <button onclick="loadData()">Load Data</button>
    <div id="data"></div>
    <button onclick="saveData()">Save Data</button>

    <script>
    function loadData() {
        fetch('/load_data')
            .then(response => response.json())
            .then(data => {
                let table = '<table><tr>';
                for (let key in data[0]) {
                    table += `<th>${key}</th>`;
                }
                table += '</tr>';
                data.forEach(row => {
                    table += '<tr>';
                    for (let key in row) {
                        table += `<td contenteditable="true">${row[key]}</td>`;
                    }
                    table += '</tr>';
                });
                table += '</table>';
                document.getElementById('data').innerHTML = table;
            });
    }

    function saveData() {
        let data = [];
        let table = document.querySelector('table');
        let headers = Array.from(table.querySelectorAll('th')).map(th => th.textContent);
        let rows = table.querySelectorAll('tr');
        for (let i = 1; i < rows.length; i++) {
            let row = {};
            let cells = rows[i].querySelectorAll('td');
            headers.forEach((header, index) => {
                row[header] = cells[index].textContent;
            });
            data.push(row);
        }
        fetch('/save_data', {
            method: 'POST',
            headers: {
                'Content-Type': 'application/json',
            },
            body: JSON.stringify(data),
        })
        .then(response => response.json())
        .then(result => alert(result.message));
    }
    </script>
</body>
</html>
    """

@app.route('/load_data')
def load_data():
    df = pd.read_csv('solar_plants.csv')
    return jsonify(df.to_dict(orient='records'))

@app.route('/save_data', methods=['POST'])
def save_data():
    data = request.json
    df = pd.DataFrame(data)
    df.to_csv('solar_plants.csv', index=False)
    return jsonify({"message": "Data saved successfully"})

# Function to create a public URL
def create_public_url():
    return eval_js("""
        (async () => {
            const url = await google.colab.kernel.proxyPort(5000);
            return url;
        })()
    """)

# Run the Flask app
if __name__ == '__main__':
    public_url = create_public_url()
    print(f"Public URL: {public_url}")
    app.run(port=5000)
